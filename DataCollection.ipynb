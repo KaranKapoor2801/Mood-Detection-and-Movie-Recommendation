{
 "cells": [
  {
   "cell_type": "markdown",
   "metadata": {},
   "source": [
    "#                            Collecting Data for Face Recognisition "
   ]
  },
  {
   "cell_type": "markdown",
   "metadata": {},
   "source": [
    "####  Installing pakages "
   ]
  },
  {
   "cell_type": "code",
   "execution_count": 1,
   "metadata": {},
   "outputs": [],
   "source": [
    "!!pip install opencv-python\n",
    "import cv2\n",
    "import numpy as np"
   ]
  },
  {
   "cell_type": "code",
   "execution_count": 14,
   "metadata": {},
   "outputs": [],
   "source": [
    "cam = cv2.VideoCapture(0)\n",
    "face_cascade = cv2.CascadeClassifier('C:/Users/KARAN KAPOOR/AppData/Local/Programs/Python/Python37-32/Lib/site-packages/cv2/data/haarcascade_frontalface_alt.xml')\n",
    "smile_cascade=cv2.CascadeClassifier('C:/Users/KARAN KAPOOR/AppData/Local/Programs/Python/Python37-32/Lib/site-packages/cv2/data/haarcascade_smile.xml')\n",
    "joy= []\n",
    "fear=[]\n",
    "anger=[]\n",
    "surprise=[]\n",
    "sad=[]\n",
    "cnt = 0 "
   ]
  },
  {
   "cell_type": "markdown",
   "metadata": {},
   "source": [
    "## User Name"
   ]
  },
  {
   "cell_type": "code",
   "execution_count": 3,
   "metadata": {},
   "outputs": [
    {
     "name": "stdout",
     "output_type": "stream",
     "text": [
      "enter your namekk\n"
     ]
    }
   ],
   "source": [
    "user_name = input(\"enter your name\")"
   ]
  },
  {
   "cell_type": "markdown",
   "metadata": {},
   "source": [
    "##  Taking Images(JOY)"
   ]
  },
  {
   "cell_type": "code",
   "execution_count": 5,
   "metadata": {},
   "outputs": [
    {
     "name": "stdout",
     "output_type": "stream",
     "text": [
      "Taking picture  0\n",
      "Taking picture  1\n",
      "Taking picture  2\n",
      "Taking picture  3\n",
      "Taking picture  4\n",
      "Taking picture  5\n",
      "Taking picture  6\n",
      "Taking picture  7\n",
      "Taking picture  8\n",
      "Taking picture  9\n",
      "Taking picture  10\n",
      "Taking picture  11\n",
      "Taking picture  12\n",
      "Taking picture  13\n",
      "Taking picture  14\n",
      "Taking picture  15\n",
      "Taking picture  16\n",
      "Taking picture  17\n",
      "Taking picture  18\n",
      "Taking picture  19\n",
      "Taking picture  20\n",
      "Taking picture  21\n",
      "Taking picture  22\n",
      "Taking picture  23\n",
      "Taking picture  24\n",
      "Taking picture  25\n",
      "Taking picture  26\n",
      "Taking picture  27\n",
      "Taking picture  28\n",
      "Taking picture  29\n",
      "Taking picture  30\n",
      "Taking picture  31\n",
      "Taking picture  32\n",
      "Taking picture  33\n",
      "Taking picture  34\n",
      "Taking picture  35\n",
      "Taking picture  36\n",
      "Taking picture  37\n",
      "Taking picture  38\n",
      "Taking picture  39\n",
      "Taking picture  40\n",
      "Taking picture  41\n",
      "Taking picture  42\n",
      "Taking picture  43\n",
      "Taking picture  44\n",
      "Taking picture  45\n",
      "Taking picture  46\n",
      "Taking picture  47\n",
      "Taking picture  48\n",
      "Taking picture  49\n"
     ]
    }
   ],
   "source": [
    "while True:\n",
    "    ret,frame = cam.read()\n",
    "    if ret==False:\n",
    "        print(\"Face detection failed!\")\n",
    "        continue\n",
    "\n",
    "    key_pressed = cv2.waitKey(1)\n",
    "    \n",
    "    #press q to exit from the loop\n",
    "    \n",
    "    if key_pressed==ord('q'):\n",
    "        break;\n",
    "\n",
    "    faces = face_cascade.detectMultiScale(frame,scaleFactor=1.05,minNeighbors=5)\n",
    "    if(len(faces)==0):\n",
    "        cv2.imshow(\"Video\",frame)\n",
    "        continue\n",
    "    for face in faces:\n",
    "        x,y,w,h = face\n",
    "        face_section = frame[y-10:y+h+10,x-10:x+w+10];\n",
    "        face_section = cv2.resize(face_section,(100,100))\n",
    "        cv2.rectangle(frame,(x,y),(x+w,y+h),(0,255,255),3)\n",
    "        if cnt%10==0:\n",
    "            print(\"Taking picture \",int(cnt/10))\n",
    "            joy.append(face_section)\n",
    "        cnt +=1 \n",
    "\n",
    "    gray = cv2.cvtColor(frame,cv2.COLOR_BGR2GRAY)\n",
    "    cv2.imshow(\"Video\",frame)\n",
    "    cv2.imshow(\"Video Gray\",face_section)"
   ]
  },
  {
   "cell_type": "markdown",
   "metadata": {},
   "source": [
    "##  Taking Images(Anger)"
   ]
  },
  {
   "cell_type": "code",
   "execution_count": 6,
   "metadata": {},
   "outputs": [
    {
     "name": "stdout",
     "output_type": "stream",
     "text": [
      "Taking picture  0\n",
      "Taking picture  1\n",
      "Taking picture  2\n",
      "Taking picture  3\n",
      "Taking picture  4\n",
      "Taking picture  5\n",
      "Taking picture  6\n",
      "Taking picture  7\n",
      "Taking picture  8\n",
      "Taking picture  9\n",
      "Taking picture  10\n",
      "Taking picture  11\n",
      "Taking picture  12\n",
      "Taking picture  13\n",
      "Taking picture  14\n",
      "Taking picture  15\n",
      "Taking picture  16\n",
      "Taking picture  17\n",
      "Taking picture  18\n",
      "Taking picture  19\n",
      "Taking picture  20\n",
      "Taking picture  21\n",
      "Taking picture  22\n",
      "Taking picture  23\n",
      "Taking picture  24\n",
      "Taking picture  25\n",
      "Taking picture  26\n",
      "Taking picture  27\n",
      "Taking picture  28\n",
      "Taking picture  29\n",
      "Taking picture  30\n",
      "Taking picture  31\n",
      "Taking picture  32\n",
      "Taking picture  33\n",
      "Taking picture  34\n",
      "Taking picture  35\n",
      "Taking picture  36\n",
      "Taking picture  37\n",
      "Taking picture  38\n",
      "Taking picture  39\n",
      "Taking picture  40\n",
      "Taking picture  41\n",
      "Taking picture  42\n",
      "Taking picture  43\n",
      "Taking picture  44\n",
      "Taking picture  45\n",
      "Taking picture  46\n"
     ]
    }
   ],
   "source": [
    "cnt=0;\n",
    "while True:\n",
    "    ret,frame = cam.read()\n",
    "    if ret==False:\n",
    "        print(\"Face detection failed!\")\n",
    "        continue\n",
    "\n",
    "    key_pressed = cv2.waitKey(1)\n",
    "    \n",
    "    #press q to exit from the loop\n",
    "    \n",
    "    if key_pressed==ord('q'):\n",
    "        break;\n",
    "\n",
    "    faces = face_cascade.detectMultiScale(frame,scaleFactor=1.05,minNeighbors=5)\n",
    "    if(len(faces)==0):\n",
    "        cv2.imshow(\"Video\",frame)\n",
    "        continue\n",
    "    for face in faces:\n",
    "        x,y,w,h = face\n",
    "        face_section = frame[y-10:y+h+10,x-10:x+w+10];\n",
    "        face_section = cv2.resize(face_section,(100,100))\n",
    "        cv2.rectangle(frame,(x,y),(x+w,y+h),(0,255,255),3)\n",
    "        if cnt%10==0:\n",
    "            print(\"Taking picture \",int(cnt/10))\n",
    "            anger.append(face_section)\n",
    "        cnt +=1 \n",
    "\n",
    "    gray = cv2.cvtColor(frame,cv2.COLOR_BGR2GRAY)\n",
    "    cv2.imshow(\"Video\",frame)\n",
    "    cv2.imshow(\"Video Gray\",face_section)"
   ]
  },
  {
   "cell_type": "markdown",
   "metadata": {},
   "source": [
    "##  Taking Images(FEAR)"
   ]
  },
  {
   "cell_type": "code",
   "execution_count": 7,
   "metadata": {},
   "outputs": [
    {
     "name": "stdout",
     "output_type": "stream",
     "text": [
      "Taking picture  0\n",
      "Taking picture  1\n",
      "Taking picture  2\n",
      "Taking picture  3\n",
      "Taking picture  4\n",
      "Taking picture  5\n",
      "Taking picture  6\n",
      "Taking picture  7\n",
      "Taking picture  8\n",
      "Taking picture  9\n",
      "Taking picture  10\n",
      "Taking picture  11\n",
      "Taking picture  12\n",
      "Taking picture  13\n",
      "Taking picture  14\n",
      "Taking picture  15\n",
      "Taking picture  16\n",
      "Taking picture  17\n",
      "Taking picture  18\n",
      "Taking picture  19\n",
      "Taking picture  20\n",
      "Taking picture  21\n",
      "Taking picture  22\n",
      "Taking picture  23\n",
      "Taking picture  24\n",
      "Taking picture  25\n",
      "Taking picture  26\n",
      "Taking picture  27\n",
      "Taking picture  28\n",
      "Taking picture  29\n",
      "Taking picture  30\n",
      "Taking picture  31\n",
      "Taking picture  32\n",
      "Taking picture  33\n",
      "Taking picture  34\n",
      "Taking picture  35\n",
      "Taking picture  36\n",
      "Taking picture  37\n",
      "Taking picture  38\n",
      "Taking picture  39\n",
      "Taking picture  40\n"
     ]
    }
   ],
   "source": [
    "cnt=0;\n",
    "while True:\n",
    "    ret,frame = cam.read()\n",
    "    if ret==False:\n",
    "        print(\"Face detection failed!\")\n",
    "        continue\n",
    "\n",
    "    key_pressed = cv2.waitKey(1)\n",
    "    \n",
    "    #press q to exit from the loop\n",
    "    \n",
    "    if key_pressed==ord('q'):\n",
    "        break;\n",
    "\n",
    "    faces = face_cascade.detectMultiScale(frame,scaleFactor=1.05,minNeighbors=5)\n",
    "    if(len(faces)==0):\n",
    "        cv2.imshow(\"Video\",frame)\n",
    "        continue\n",
    "    for face in faces:\n",
    "        x,y,w,h = face\n",
    "        face_section = frame[y-10:y+h+10,x-10:x+w+10];\n",
    "        face_section = cv2.resize(face_section,(100,100))\n",
    "        cv2.rectangle(frame,(x,y),(x+w,y+h),(0,255,255),3)\n",
    "        if cnt%10==0:\n",
    "            print(\"Taking picture \",int(cnt/10))\n",
    "            fear.append(face_section)\n",
    "        cnt +=1 \n",
    "\n",
    "    gray = cv2.cvtColor(frame,cv2.COLOR_BGR2GRAY)\n",
    "    cv2.imshow(\"Video\",frame)\n",
    "    cv2.imshow(\"Video Gray\",face_section)"
   ]
  },
  {
   "cell_type": "markdown",
   "metadata": {},
   "source": [
    "##  Taking Images(Surprise)"
   ]
  },
  {
   "cell_type": "code",
   "execution_count": 15,
   "metadata": {},
   "outputs": [
    {
     "name": "stdout",
     "output_type": "stream",
     "text": [
      "Taking picture  0\n",
      "Taking picture  1\n",
      "Taking picture  2\n",
      "Taking picture  3\n",
      "Taking picture  4\n",
      "Taking picture  5\n",
      "Taking picture  6\n",
      "Taking picture  7\n",
      "Taking picture  8\n",
      "Taking picture  9\n",
      "Taking picture  10\n",
      "Taking picture  11\n",
      "Taking picture  12\n",
      "Taking picture  13\n",
      "Taking picture  14\n",
      "Taking picture  15\n",
      "Taking picture  16\n",
      "Taking picture  17\n",
      "Taking picture  18\n",
      "Taking picture  19\n",
      "Taking picture  20\n",
      "Taking picture  21\n",
      "Taking picture  22\n",
      "Taking picture  23\n",
      "Taking picture  24\n",
      "Taking picture  25\n",
      "Taking picture  26\n",
      "Taking picture  27\n",
      "Taking picture  28\n",
      "Taking picture  29\n",
      "Taking picture  30\n",
      "Taking picture  31\n",
      "Taking picture  32\n",
      "Taking picture  33\n",
      "Taking picture  34\n"
     ]
    }
   ],
   "source": [
    "cnt=0;\n",
    "while True:\n",
    "    ret,frame = cam.read()\n",
    "    if ret==False:\n",
    "        print(\"Face detection failed!\")\n",
    "        continue\n",
    "\n",
    "    key_pressed = cv2.waitKey(1)\n",
    "    \n",
    "    #press q to exit from the loop\n",
    "    \n",
    "    if key_pressed==ord('q'):\n",
    "        break;\n",
    "\n",
    "    faces = face_cascade.detectMultiScale(frame,scaleFactor=1.05,minNeighbors=5)\n",
    "    if(len(faces)==0):\n",
    "        cv2.imshow(\"Video\",frame)\n",
    "        continue\n",
    "    for face in faces:\n",
    "        x,y,w,h = face\n",
    "        face_section = frame[y-10:y+h+10,x-10:x+w+10];\n",
    "        face_section = cv2.resize(face_section,(100,100))\n",
    "        cv2.rectangle(frame,(x,y),(x+w,y+h),(0,255,255),3)\n",
    "        if cnt%10==0:\n",
    "            print(\"Taking picture \",int(cnt/10))\n",
    "            surprise.append(face_section)\n",
    "        cnt +=1 \n",
    "\n",
    "    gray = cv2.cvtColor(frame,cv2.COLOR_BGR2GRAY)\n",
    "    cv2.imshow(\"Video\",frame)\n",
    "    cv2.imshow(\"Video Gray\",face_section)"
   ]
  },
  {
   "cell_type": "markdown",
   "metadata": {},
   "source": [
    "##  Taking Images(SAD)"
   ]
  },
  {
   "cell_type": "code",
   "execution_count": 16,
   "metadata": {},
   "outputs": [
    {
     "name": "stdout",
     "output_type": "stream",
     "text": [
      "Taking picture  0\n",
      "Taking picture  1\n",
      "Taking picture  2\n",
      "Taking picture  3\n",
      "Taking picture  4\n",
      "Taking picture  5\n",
      "Taking picture  6\n",
      "Taking picture  7\n",
      "Taking picture  8\n",
      "Taking picture  9\n",
      "Taking picture  10\n",
      "Taking picture  11\n",
      "Taking picture  12\n",
      "Taking picture  13\n",
      "Taking picture  14\n",
      "Taking picture  15\n",
      "Taking picture  16\n",
      "Taking picture  17\n",
      "Taking picture  18\n",
      "Taking picture  19\n",
      "Taking picture  20\n",
      "Taking picture  21\n",
      "Taking picture  22\n",
      "Taking picture  23\n",
      "Taking picture  24\n",
      "Taking picture  25\n",
      "Taking picture  26\n",
      "Taking picture  27\n",
      "Taking picture  28\n"
     ]
    }
   ],
   "source": [
    "cnt=0;\n",
    "while True:\n",
    "    ret,frame = cam.read()\n",
    "    if ret==False:\n",
    "        print(\"Face detection failed!\")\n",
    "        continue\n",
    "\n",
    "    key_pressed = cv2.waitKey(1)\n",
    "    \n",
    "    #press q to exit from the loop\n",
    "    \n",
    "    if key_pressed==ord('q'):\n",
    "        break;\n",
    "\n",
    "    faces = face_cascade.detectMultiScale(frame,scaleFactor=1.05,minNeighbors=5)\n",
    "    if(len(faces)==0):\n",
    "        cv2.imshow(\"Video\",frame)\n",
    "        continue\n",
    "    for face in faces:\n",
    "        x,y,w,h = face\n",
    "        face_section = frame[y-10:y+h+10,x-10:x+w+10];\n",
    "        face_section = cv2.resize(face_section,(100,100))\n",
    "        cv2.rectangle(frame,(x,y),(x+w,y+h),(0,255,255),3)\n",
    "        if cnt%10==0:\n",
    "            print(\"Taking picture \",int(cnt/10))\n",
    "            sad.append(face_section)\n",
    "        cnt +=1 \n",
    "\n",
    "    gray = cv2.cvtColor(frame,cv2.COLOR_BGR2GRAY)\n",
    "    cv2.imshow(\"Video\",frame)\n",
    "    cv2.imshow(\"Video Gray\",face_section)"
   ]
  },
  {
   "cell_type": "code",
   "execution_count": 17,
   "metadata": {},
   "outputs": [
    {
     "name": "stdout",
     "output_type": "stream",
     "text": [
      "Total Faces 0\n"
     ]
    },
    {
     "ename": "ValueError",
     "evalue": "cannot reshape array of size 0 into shape (0,newaxis)",
     "output_type": "error",
     "traceback": [
      "\u001b[1;31m---------------------------------------------------------------------------\u001b[0m",
      "\u001b[1;31mValueError\u001b[0m                                Traceback (most recent call last)",
      "\u001b[1;32m<ipython-input-17-79b8c58f0313>\u001b[0m in \u001b[0;36m<module>\u001b[1;34m\u001b[0m\n\u001b[0;32m      1\u001b[0m \u001b[0mprint\u001b[0m\u001b[1;33m(\u001b[0m\u001b[1;34m\"Total Faces\"\u001b[0m \u001b[1;33m,\u001b[0m\u001b[0mlen\u001b[0m\u001b[1;33m(\u001b[0m\u001b[0mjoy\u001b[0m\u001b[1;33m)\u001b[0m\u001b[1;33m)\u001b[0m\u001b[1;33m\u001b[0m\u001b[1;33m\u001b[0m\u001b[0m\n\u001b[0;32m      2\u001b[0m \u001b[0mjoy\u001b[0m \u001b[1;33m=\u001b[0m \u001b[0mnp\u001b[0m\u001b[1;33m.\u001b[0m\u001b[0marray\u001b[0m\u001b[1;33m(\u001b[0m\u001b[0mjoy\u001b[0m\u001b[1;33m)\u001b[0m\u001b[1;33m\u001b[0m\u001b[1;33m\u001b[0m\u001b[0m\n\u001b[1;32m----> 3\u001b[1;33m \u001b[0mjoy\u001b[0m \u001b[1;33m=\u001b[0m \u001b[0mjoy\u001b[0m\u001b[1;33m.\u001b[0m\u001b[0mreshape\u001b[0m\u001b[1;33m(\u001b[0m\u001b[1;33m(\u001b[0m\u001b[0mjoy\u001b[0m\u001b[1;33m.\u001b[0m\u001b[0mshape\u001b[0m\u001b[1;33m[\u001b[0m\u001b[1;36m0\u001b[0m\u001b[1;33m]\u001b[0m\u001b[1;33m,\u001b[0m\u001b[1;33m-\u001b[0m\u001b[1;36m1\u001b[0m\u001b[1;33m)\u001b[0m\u001b[1;33m)\u001b[0m\u001b[1;33m\u001b[0m\u001b[1;33m\u001b[0m\u001b[0m\n\u001b[0m",
      "\u001b[1;31mValueError\u001b[0m: cannot reshape array of size 0 into shape (0,newaxis)"
     ]
    }
   ],
   "source": [
    "print(\"Total Faces\" ,len(joy))\n",
    "joy = np.array(joy)\n",
    "joy = joy.reshape((joy.shape[0],-1))\n"
   ]
  },
  {
   "cell_type": "code",
   "execution_count": 9,
   "metadata": {},
   "outputs": [
    {
     "name": "stdout",
     "output_type": "stream",
     "text": [
      "Total Faces 47\n"
     ]
    }
   ],
   "source": [
    "print(\"Total Faces\" ,len(anger))\n",
    "anger = np.array(anger)\n",
    "anger = anger.reshape((anger.shape[0],-1))\n"
   ]
  },
  {
   "cell_type": "code",
   "execution_count": 10,
   "metadata": {},
   "outputs": [
    {
     "name": "stdout",
     "output_type": "stream",
     "text": [
      "Total Faces 41\n"
     ]
    }
   ],
   "source": [
    "print(\"Total Faces\" ,len(fear))\n",
    "fear = np.array(fear)\n",
    "fear = fear.reshape((fear.shape[0],-1))\n"
   ]
  },
  {
   "cell_type": "code",
   "execution_count": 18,
   "metadata": {},
   "outputs": [
    {
     "name": "stdout",
     "output_type": "stream",
     "text": [
      "Total Faces 35\n"
     ]
    }
   ],
   "source": [
    "print(\"Total Faces\" ,len(surprise))\n",
    "surprise = np.array(surprise)\n",
    "surprise = surprise.reshape((surprise.shape[0],-1))\n"
   ]
  },
  {
   "cell_type": "code",
   "execution_count": 19,
   "metadata": {},
   "outputs": [
    {
     "name": "stdout",
     "output_type": "stream",
     "text": [
      "Total Faces 29\n"
     ]
    }
   ],
   "source": [
    "print(\"Total Faces\" ,len(sad))\n",
    "sad = np.array(sad)\n",
    "sad = sad.reshape((sad.shape[0],-1))\n"
   ]
  },
  {
   "cell_type": "markdown",
   "metadata": {},
   "source": [
    "## Save Capture Image"
   ]
  },
  {
   "cell_type": "code",
   "execution_count": null,
   "metadata": {},
   "outputs": [],
   "source": []
  },
  {
   "cell_type": "code",
   "execution_count": 20,
   "metadata": {},
   "outputs": [],
   "source": [
    "np.save(\"E:/Facedata/joy.npy\",joy)\n",
    "np.save(\"E:/Facedata/anger.npy\",anger)\n",
    "np.save(\"E:/Facedata/fear.npy\",fear)\n",
    "np.save(\"E:/Facedata/surprise.npy\",surprise)\n",
    "np.save(\"E:/Facedata/sad.npy\",sad)\n",
    "#print(\"Saved at Facedata/\"+user_name+\".npy\")"
   ]
  },
  {
   "cell_type": "code",
   "execution_count": 21,
   "metadata": {},
   "outputs": [],
   "source": [
    "cam.release()\n",
    "cv2.destroyAllWindows()\t"
   ]
  },
  {
   "cell_type": "code",
   "execution_count": null,
   "metadata": {},
   "outputs": [],
   "source": []
  }
 ],
 "metadata": {
  "kernelspec": {
   "display_name": "Python 3",
   "language": "python",
   "name": "python3"
  },
  "language_info": {
   "codemirror_mode": {
    "name": "ipython",
    "version": 3
   },
   "file_extension": ".py",
   "mimetype": "text/x-python",
   "name": "python",
   "nbconvert_exporter": "python",
   "pygments_lexer": "ipython3",
   "version": "3.7.3"
  }
 },
 "nbformat": 4,
 "nbformat_minor": 2
}
