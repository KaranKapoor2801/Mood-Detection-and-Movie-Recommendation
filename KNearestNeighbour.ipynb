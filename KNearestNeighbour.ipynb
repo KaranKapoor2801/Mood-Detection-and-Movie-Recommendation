{
 "cells": [
  {
   "cell_type": "markdown",
   "metadata": {},
   "source": [
    "#   Mood Detection and movie Recommendation using K nearest Neighbour"
   ]
  },
  {
   "cell_type": "markdown",
   "metadata": {},
   "source": [
    "### Importing Modules"
   ]
  },
  {
   "cell_type": "code",
   "execution_count": 2,
   "metadata": {},
   "outputs": [],
   "source": [
    "!!pip install opencv-python\n",
    "import cv2\n",
    "import numpy as np\n",
    "import os"
   ]
  },
  {
   "cell_type": "code",
   "execution_count": 3,
   "metadata": {},
   "outputs": [],
   "source": [
    "d={}\n",
    "d['joy']=0\n",
    "d['anger']=0\n",
    "d['surprise']=0\n",
    "d['fear']=0\n",
    "d['sad']=0"
   ]
  },
  {
   "cell_type": "markdown",
   "metadata": {},
   "source": [
    "### function 2 check similarity of 2 images"
   ]
  },
  {
   "cell_type": "code",
   "execution_count": 4,
   "metadata": {},
   "outputs": [],
   "source": [
    "def distance(v1, v2):\n",
    "    return np.sqrt(((v1-v2)**2).sum())"
   ]
  },
  {
   "cell_type": "markdown",
   "metadata": {},
   "source": [
    "### KNN function"
   ]
  },
  {
   "cell_type": "code",
   "execution_count": 5,
   "metadata": {},
   "outputs": [],
   "source": [
    "def knn(train, test, k=5):\n",
    "    dist = []\n",
    "    for i in range(train.shape[0]):\n",
    "        ix = train[i, :-1]\n",
    "        iy = train[i, -1]\n",
    "        d = distance(test, ix)\n",
    "        dist.append([d, iy])\n",
    "    dk = sorted(dist, key=lambda x: x[0])[:k]\n",
    "    labels = np.array(dk)[:, -1]\n",
    "    output = np.unique(labels, return_counts=True)\n",
    "    index = np.argmax(output[1])\n",
    "    return output[0][index]\n"
   ]
  },
  {
   "cell_type": "code",
   "execution_count": 6,
   "metadata": {},
   "outputs": [],
   "source": [
    "cam = cv2.VideoCapture(0)\n",
    "\n",
    "face_cascade = cv2.CascadeClassifier('C:/Users/KARAN KAPOOR/AppData/Local/Programs/Python/Python37-32/Lib/site-packages/cv2/data/haarcascade_frontalface_alt.xml')\n",
    "skip= 0\n",
    "dataset_path =\"E:/Facedata/\"\n",
    "class_id = 0 #label for given file\n",
    "names = {}\n",
    "face_data = []\n",
    "labels = []"
   ]
  },
  {
   "cell_type": "markdown",
   "metadata": {},
   "source": [
    "### Data Preparation"
   ]
  },
  {
   "cell_type": "code",
   "execution_count": 7,
   "metadata": {},
   "outputs": [
    {
     "name": "stdout",
     "output_type": "stream",
     "text": [
      "Loading file  anger.npy\n",
      "Loading file  fear.npy\n",
      "Loading file  joy.npy\n",
      "Loading file  sad.npy\n",
      "Loading file  surprise.npy\n",
      "(202, 30000)\n",
      "(202, 1)\n"
     ]
    }
   ],
   "source": [
    "for fx in os.listdir(dataset_path):\n",
    "    if fx.endswith(\".npy\"): #a numpy file\n",
    "        names[class_id] = fx[:-4]\n",
    "        print(\"Loading file \",fx)\n",
    "        data_item = np.load(dataset_path+fx) #file name and .npy\n",
    "        face_data.append(data_item)\n",
    "        target = class_id*np.ones((data_item.shape[0],)) #matrix of ones\n",
    "        class_id +=1\n",
    "        labels.append(target)\n",
    "        \n",
    "face_dataset = np.concatenate(face_data,axis=0)\n",
    "face_label= np.concatenate(labels,axis=0).reshape((-1,1))\n",
    "\n",
    "print(face_dataset.shape)\n",
    "print(face_label.shape)\n"
   ]
  },
  {
   "cell_type": "code",
   "execution_count": null,
   "metadata": {},
   "outputs": [],
   "source": [
    "trainset = np.concatenate((face_dataset,face_label),axis=1)\n",
    "print(trainset.shape)"
   ]
  },
  {
   "cell_type": "code",
   "execution_count": null,
   "metadata": {},
   "outputs": [],
   "source": [
    "count=0\n",
    "while True:\n",
    "    ret,frame = cam.read()\n",
    "    if ret == False:\n",
    "        continue\n",
    "    faces = face_cascade.detectMultiScale(frame,1.3,5)\n",
    "\n",
    "    if(len(faces)==0): #if no face is seen, the camera hangs up rather than clossing with empty()! error\n",
    "        cv2.imshow(\"Faces\",frame)\n",
    "        continue \n",
    "\n",
    "    for face in faces:\n",
    "        x,y,w,h = face\n",
    "\n",
    "        offset = 10\n",
    "        face_selection = frame[y-offset:y+h+offset,x-offset:x+w+offset]\n",
    "        face_selection = cv2.resize(face_selection,(100,100))\n",
    "\n",
    "\n",
    "        out = knn(trainset,face_selection.flatten())\n",
    "        pred_name = names[int(out)]\t\n",
    "        d[pred_name]=d[pred_name]+1\n",
    "        cv2.putText(frame,pred_name,(x,y-10),cv2.FONT_HERSHEY_SIMPLEX,1,(255,0,125),2,cv2.LINE_AA)\n",
    "        cv2.rectangle(frame,(x,y),(x+w,y+h),(0,255,255),5)\n",
    "\n",
    "    count=count+1;\n",
    "    cv2.imshow(\"Faces\",frame)\n",
    "    \n",
    "    key=cv2.waitKey(1) & 0xFF\n",
    "\n",
    "    if key==ord('q') or count>=100:\n",
    "        break"
   ]
  },
  {
   "cell_type": "code",
   "execution_count": 10,
   "metadata": {},
   "outputs": [
    {
     "name": "stdout",
     "output_type": "stream",
     "text": [
      "fear\n"
     ]
    }
   ],
   "source": [
    "s=\"\"\n",
    "max1=0\n",
    "if(d['joy']>max1):\n",
    "    max1=d['joy']\n",
    "    s=\"joy\"\n",
    "if(d['anger']>max1):\n",
    "    max1=d['anger']\n",
    "    s=\"anger\"\n",
    "if(d['surprise']>max1):\n",
    "    max1=d['surprise']\n",
    "    s=\"surprise\"\n",
    "if(d['fear']>max1):\n",
    "    max1=d['fear']\n",
    "    s=\"fear\"\n",
    "if(d['sad']>max1):\n",
    "    max1=d['sad']\n",
    "    s=\"sad\"\n",
    "print(s)"
   ]
  },
  {
   "cell_type": "code",
   "execution_count": 11,
   "metadata": {},
   "outputs": [
    {
     "name": "stdout",
     "output_type": "stream",
     "text": [
      "A quite place\n",
      "Halloween\n",
      "It\n",
      "Hush\n",
      "Us\n"
     ]
    }
   ],
   "source": [
    "    if s==\"joy\":\n",
    "        print('3 Idiots')\n",
    "        print('Dhammal')\n",
    "        print('Hera Pheri')\n",
    "        print('Golmaal')\n",
    "        print('Munna Bhai MBBS')\n",
    "    if s==\"anger\":\n",
    "        print('Wanted')\n",
    "        print('Krrish')\n",
    "        print('Kick')\n",
    "        print('Dhoom 2')\n",
    "        print('Agneepath')\n",
    "    if s==\"surprise\":\n",
    "        print('Yesterday')\n",
    "        print('The loin King')\n",
    "        print('Crawl')\n",
    "        print('Stubber')\n",
    "        print('Shaft')\n",
    "    if s==\"sad\":\n",
    "        print('Atonement')\n",
    "        print('The Road')\n",
    "        print('Remember me')\n",
    "        print('The champ')\n",
    "        print('The last Song')\n",
    "    if s==\"fear\":\n",
    "        print('A quite place')\n",
    "        print('Halloween')\n",
    "        print('It')\n",
    "        print('Hush')\n",
    "        print('Us')\n",
    "\n"
   ]
  },
  {
   "cell_type": "code",
   "execution_count": 12,
   "metadata": {},
   "outputs": [],
   "source": [
    "cam.release()\n",
    "cv2.destroyAllWindows()"
   ]
  },
  {
   "cell_type": "code",
   "execution_count": null,
   "metadata": {},
   "outputs": [],
   "source": []
  }
 ],
 "metadata": {
  "kernelspec": {
   "display_name": "Python 3",
   "language": "python",
   "name": "python3"
  },
  "language_info": {
   "codemirror_mode": {
    "name": "ipython",
    "version": 3
   },
   "file_extension": ".py",
   "mimetype": "text/x-python",
   "name": "python",
   "nbconvert_exporter": "python",
   "pygments_lexer": "ipython3",
   "version": "3.7.3"
  }
 },
 "nbformat": 4,
 "nbformat_minor": 2
}
